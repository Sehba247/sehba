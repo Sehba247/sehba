{
  "nbformat": 4,
  "nbformat_minor": 0,
  "metadata": {
    "colab": {
      "provenance": []
    },
    "kernelspec": {
      "name": "python3",
      "display_name": "Python 3"
    },
    "language_info": {
      "name": "python"
    }
  },
  "cells": [
    {
      "cell_type": "markdown",
      "source": [
        "#THEORETICAL QUESTIONS AND ANSWERS\n",
        "\n",
        "---\n",
        "1-What is Object Oriented Programming(oop)?\n",
        "\n",
        " - Object oriented Programming is a way of structuring software by grouping data (like a car's color, make and model) and the actions we do with that data\n",
        " (like starting, stopping ,or driving the car) into self contained units called objects . These objects reduce the redundancy and increase the usability of the program .OOP allows object to interact with each other using 4 basic principles : encapsulation, inheritance, polymorphism,and abstraction.\n",
        "\n",
        "2- What is a class in OOP?\n",
        "\n",
        "  - In OOP class is a blueprint or template for creating objects.It is one of the defining ideas of OOP.\n",
        "\n",
        "3- What is an object in OOP?\n",
        "\n",
        " - An object is an instance of a class ,created by calling the class like a function. The object contains the data defined by the class ,as well as unique identity.\n",
        "\n",
        "4- What is the difference between abstraction and encapsulation?\n",
        "\n",
        " - Encapsulation is the bundling of data and methods that operates on that data into a single unit like a class .Abstraction , on the other hand is the hiding of complex implementation details and exposing only the essential functionalities of an object or class.\n",
        " eg. In a university different department operates but all are coordinated under a single system . This is what the encapsulation is.\n",
        " Abstraction eg. only the simple structure of mobile is visible to us but the other components are kept hidden from us . Abstraction is same like this.\n",
        "\n",
        "5- What are dunder methods in python?\n",
        "\n",
        " - Magic or dunder method in python begins and ends with double underscore.Dunder methods are usually used to define method overloading in python.These methods allow instances of a class to interact with the  built in functions and operators of the language.for eg ______add__\n",
        "\n",
        "6-Explain the concept of inheritance in OOP?\n",
        "\n",
        " - In OOP , inheritance is a mechanism that allows a class to inherit properties from another class i.e the parent or base class ,promoting code reuse and hierarchial relationship between classes. It simplifies the process of creating new classes by leveraging the features of existing ones.\n",
        "\n",
        "7- What is polymorphism in OOP?\n",
        "\n",
        " - Polymorphism allows us to write code that can work with objects without knowing their exact type ,as different objects can respond to the same method call in many ways. It refers to the same operators/functions with the same name that can be executed on many objects or classes.\n",
        " len() is an example of polymorphism function in python.\n",
        "\n",
        "8- How is encapsulation achieved in Python?\n",
        "\n",
        " - Python supports encapsulation through conventions and programming practices rather enforced access modifiers.In Python we achieve this by using single and double score.\n",
        "\n",
        "9-What is a constructor in Python?\n",
        "\n",
        " - In python , a constructor is a special method typically named ______init__\n",
        " that is automatically called when a new object of a class is created. It is used to initialize the attributes of that object with specific values.\n",
        "\n",
        "\n",
        "10- What are class and static method in Python?\n",
        "\n",
        " - In python ,static methods are utility functions within a class that doesn't access or modify the class or instance state. they are defined by using @staticmethod decorator.\n",
        "\n",
        " - Class methods are bound to the class itself and can access class attributes . They are defined using the @classmethod.\n",
        "\n",
        "11-What is method overloading in python ?\n",
        "\n",
        " - In python method overloading is not supported but achieved in the same way like other languages through flexible argument handling techniques like default arguments, variable length arguments (*args, **kwargs)and conditional logic with the function.Method Overloading is a feature of OOP where a class can have multiple methods with the same name but different parameters.\n",
        "\n",
        "12- What is method overriding in OOP?\n",
        "\n",
        " - In OOP , method overriding is a mechanism where a sub class or child class provides its own implementation of a method that is already defined in its super class or parent class.It is a key part of inheritance mechanism.\n",
        "\n",
        "13- What is a property decorater in Python?\n",
        "\n",
        " - A decorator in python is a design pattern that allows us to modify behaviour of a function or method without permanently modifyingits code . Decorators are applied using the @decorator_name syntax above the function definition.\n",
        "\n",
        "14- Why is polymorphism important in OOP?\n",
        "\n",
        " - Polymorphism is important  because it allows you to treat objects of different classes as objects of a common type enabling code reuse ,flexiblity and extensibility.\n",
        "\n",
        " 15- What is abstract class in Python?\n",
        "\n",
        "  - An abstract class is like a blueprint that acts as a  template for other classes.\n",
        "\n",
        "16- What are the advantages of OOP?\n",
        "\n",
        " - OOP offers objects like improved code organization through encapsulation ,reusability via inheritance , and flexibility with polymorphism , simplifying complex systems and promoting modular, maintainable , and scalable software solutions.\n",
        "\n",
        "17- What is the difference between a class variable and an instance variable ?\n",
        "\n",
        " - Class variables are shared between a class and all its subclasses , while class instance variables only  belong to only one specific class. Class variables are often used to store constants.Instance variables are typically used to store unique data .\n",
        "\n",
        "18- What is multiple inheritance in python?\n",
        "\n",
        " - In python multiple inheritance allows us to inherit attributes and methods from multiple parent classes in the child class.\n",
        "\n",
        "19- Explain the purpose of \"_______str____\" and \"_______repr___\"methods in Python?\n",
        "\n",
        " - ______str___ defines how an object should be represented as a human readable string when printed using the pri nt() function.______repr___ function is used to create an unambiguous representation of the argument and is used in debugging.\n",
        "\n",
        "20- What is the significance of super() function in python?\n",
        "\n",
        " - Super() function enables a subclass to call methods defined in parent class and helps prevent code duplication by allowing subclass to inherit and use the methods of parent class.this makes code more cleaner and less prone to errors.It offers felexibility by avoiding hard coding parent class names.\n",
        "\n",
        "21- What is the significance of del method in python?\n",
        "\n",
        " - It is a garbage collector in python that manages memory by tracking object references . It is used for cleanup tasks in python.\n",
        "\n",
        "22- What is the diff. b/w static and class method in python?\n",
        "\n",
        " - Class methods are declared using @classmethod decorator  while Static methods are declared using @staticmethod decorator.\n",
        " - The class method takes first argument as cls(class) while the static method doesn't take any specific parameter.\n",
        " - Class method can access and modify the class state while static method can't do this.\n",
        "\n",
        "23- How does polymorphism works in python with inheritance?\n",
        "\n",
        " - Polymorphism in Python work with the method overriding i.e subclasses making use of baseclass.\n",
        "\n",
        "24- What is method chaining in pythob  OOP?\n",
        "\n",
        " - Method chaining is performing of a series of operations on any objecct by chaining together multiple method calls in a single line of code.\n",
        "\n",
        "25- What is the purpose of call method in python?\n",
        "\n",
        " - The purpose of ______call__ method in python is to call the objects of a class ,as we call  regular python functions.\n",
        "\n",
        ""
      ],
      "metadata": {
        "id": "uRxXZd60vbD9"
      }
    },
    {
      "cell_type": "code",
      "source": [
        "# ans 1\n",
        "class animal:\n",
        "  def speak(self):\n",
        "     print(\"animal speaks\")\n",
        "class dog(animal):\n",
        "    def bark(self):\n",
        "      print(\"dog barks\")\n",
        "dog=dog()\n",
        "dog.speak()\n",
        "dog.bark()\n"
      ],
      "metadata": {
        "colab": {
          "base_uri": "https://localhost:8080/"
        },
        "id": "koeuCTomSsBw",
        "outputId": "f927a9e1-a174-4622-baed-5f4345b49221"
      },
      "execution_count": 9,
      "outputs": [
        {
          "output_type": "stream",
          "name": "stdout",
          "text": [
            "animal speaks\n",
            "dog barks\n"
          ]
        }
      ]
    },
    {
      "cell_type": "code",
      "source": [
        "#Ans2\n",
        "from abc import ABC ,abstractmethod\n",
        "class Shape(ABC):\n",
        "  @abstractmethod\n",
        "  def area(self):\n",
        "    pass\n",
        "class circle(Shape):\n",
        "  def __init__(self,radius):\n",
        "    self.radius=radius\n",
        "  def area(self):\n",
        "    return 3.14*self.radius**2\n",
        "circle=circle(5)\n",
        "print(circle.area())\n",
        "\n",
        "class rectangle(Shape):\n",
        "  def __init__(self,length,width):\n",
        "    self.length=length\n",
        "    self.width=width\n",
        "  def area(self):\n",
        "    return self.length*self.width\n",
        "rectangle=rectangle(5,6)\n",
        "print(rectangle.area())\n"
      ],
      "metadata": {
        "colab": {
          "base_uri": "https://localhost:8080/"
        },
        "id": "oBZDDu0vWbN4",
        "outputId": "3f4c1055-9833-4d4e-e855-4208ab20dde3"
      },
      "execution_count": 13,
      "outputs": [
        {
          "output_type": "stream",
          "name": "stdout",
          "text": [
            "78.5\n",
            "30\n"
          ]
        }
      ]
    },
    {
      "cell_type": "code",
      "source": [
        "#ans3\n",
        "class car:\n",
        "  def __init__(self,make,model,year):\n",
        "    self.make=make\n",
        "    self.model=model\n",
        "    self.year=year\n",
        "class electriccar(car):\n",
        "  def __init__(self,make,model,year,battery_capacity):\n",
        "    super().__init__(make,model,year)\n",
        "    self.battery_capacity=battery_capacity\n",
        "my_tesla=electriccar(\"tesla\",\"model s\",2022,75)\n",
        "print(my_tesla.make)\n",
        "print(my_tesla.model)\n",
        "print(my_tesla.year)\n",
        "print(my_tesla.battery_capacity)"
      ],
      "metadata": {
        "colab": {
          "base_uri": "https://localhost:8080/"
        },
        "id": "q5av4A-AYevf",
        "outputId": "93a77a87-ca8c-4cb2-8df1-2444b133756e"
      },
      "execution_count": 14,
      "outputs": [
        {
          "output_type": "stream",
          "name": "stdout",
          "text": [
            "tesla\n",
            "model s\n",
            "2022\n",
            "75\n"
          ]
        }
      ]
    },
    {
      "cell_type": "code",
      "source": [
        "#ans4\n",
        "class bird:\n",
        "  def fly(self):\n",
        "    print(\"bird can fly\")\n",
        "class penguin(bird):\n",
        "  def fly(self):\n",
        "    print(\"penguin can't fly\")\n",
        "penguin=penguin()\n",
        "penguin.fly()\n",
        "class sparrow(bird):\n",
        "  def fly(self):\n",
        "    print(\"sparrow can fly\")\n",
        "sparrow=sparrow()\n",
        "sparrow.fly()\n"
      ],
      "metadata": {
        "colab": {
          "base_uri": "https://localhost:8080/"
        },
        "id": "LnbHsQhmZTzZ",
        "outputId": "fb193bf1-1977-41a9-9885-0014f254492d"
      },
      "execution_count": 17,
      "outputs": [
        {
          "output_type": "stream",
          "name": "stdout",
          "text": [
            "penguin can't fly\n",
            "sparrow can fly\n"
          ]
        }
      ]
    },
    {
      "cell_type": "code",
      "source": [
        "#\n",
        "#ans5\n",
        "class bankaccount:\n",
        "  def __init__(self,balance=0):\n",
        "    self.balance=balance\n",
        "  def deposit(self,amount):\n",
        "    self.balance+=amount\n",
        "    print(amount, \"deposited.newbalance:\",{self.balance})\n",
        "  def withdraw(self,amount):\n",
        "    if amount>0 and amount<=self.balance:\n",
        "      self.balance-=amount\n",
        "      print(amount, \"withdrawn.newbalance:\",{self.balance})\n",
        "    elif amount>self.balance:\n",
        "      print(\"Insufficient funds\")\n",
        "    else:\n",
        "      print(\"Withdrawal amount must be positive\")\n",
        "  def get_balance(self):\n",
        "    return self.balance\n",
        "account=bankaccount(1000)\n",
        "account.deposit(500)\n",
        "account.withdraw(200)\n",
        "print(account.get_balance())\n"
      ],
      "metadata": {
        "colab": {
          "base_uri": "https://localhost:8080/"
        },
        "id": "vPN2hr-gavqx",
        "outputId": "52e577ef-467f-491f-eee7-a1eb826fbfe2"
      },
      "execution_count": 19,
      "outputs": [
        {
          "output_type": "stream",
          "name": "stdout",
          "text": [
            "500 deposited.newbalance: {1500}\n",
            "200 withdrawn.newbalance: {1300}\n",
            "1300\n"
          ]
        }
      ]
    },
    {
      "cell_type": "code",
      "source": [
        "#ans6\n",
        "class instrument:\n",
        "  def __init__(self,name):\n",
        "    self.name=name\n",
        "  def play(self):\n",
        "    print(f\"{self.name} is playing\")\n",
        "class guitar(instrument):\n",
        "  def __init__(self,name,strings):\n",
        "    super().__init__(name)\n",
        "    self.strings=strings\n",
        "  def play(self):\n",
        "    print(f\"{self.name} with {self.strings} strings is playing\")\n",
        "class piano(instrument):\n",
        "  def __init__(self,name,keys):\n",
        "    super().__init__(name)\n",
        "    self.keys=keys\n",
        "  def play(self):\n",
        "    print(f\"{self.name} with {self.keys} keys is playing\")\n",
        "\n",
        "guitar=guitar(\"guitar\",6)\n",
        "guitar.play()\n",
        "piano=piano(\"piano\",88)\n",
        "piano.play()\n",
        "instruments=[instrument(\"guitar\"),instrument(\"piano\")]\n",
        "for instrument in instruments:\n",
        "  instrument.play()"
      ],
      "metadata": {
        "colab": {
          "base_uri": "https://localhost:8080/"
        },
        "id": "ySpl3NeSdSdo",
        "outputId": "905c38f0-9ca8-48d2-bea0-66dda28b68b9"
      },
      "execution_count": 21,
      "outputs": [
        {
          "output_type": "stream",
          "name": "stdout",
          "text": [
            "guitar with 6 strings is playing\n",
            "piano with 88 keys is playing\n",
            "guitar is playing\n",
            "piano is playing\n"
          ]
        }
      ]
    },
    {
      "cell_type": "code",
      "source": [
        "#ans7\n",
        "class mathoperations:\n",
        "  @classmethod\n",
        "  def add_numbers(cls,a,b):\n",
        "    return a+b\n",
        "  @staticmethod\n",
        "  def subtract_numbers(a,b):\n",
        "    return a-b\n",
        "print(mathoperations.add_numbers(5,6))\n",
        "print(mathoperations.subtract_numbers(5,6))"
      ],
      "metadata": {
        "colab": {
          "base_uri": "https://localhost:8080/"
        },
        "id": "0CMOHjmlebrN",
        "outputId": "5d893bfc-e522-4c40-eeb1-2aca32039ef7"
      },
      "execution_count": 22,
      "outputs": [
        {
          "output_type": "stream",
          "name": "stdout",
          "text": [
            "11\n",
            "-1\n"
          ]
        }
      ]
    },
    {
      "cell_type": "code",
      "source": [
        "#ans8\n",
        "class person:\n",
        "  person_count=0\n",
        "\n",
        "  def __init__(self,name):\n",
        "    self.name=name\n",
        "    person.person_count+=1\n",
        "\n",
        "    def get_total_persons(cls):\n",
        "      return cls.person_count\n",
        "person1=person(\"Alice\")\n",
        "person2=person(\"Bob\")\n",
        "print(person1)\n",
        "print(person2)\n",
        "print(person.get_total_persons())\n"
      ],
      "metadata": {
        "colab": {
          "base_uri": "https://localhost:8080/",
          "height": 211
        },
        "id": "TzYtA-24e-4t",
        "outputId": "de1319de-6035-40d4-aea4-a21becaa085e"
      },
      "execution_count": 45,
      "outputs": [
        {
          "output_type": "stream",
          "name": "stdout",
          "text": [
            "<__main__.person object at 0x7be23bd22650>\n",
            "<__main__.person object at 0x7be23c264ed0>\n"
          ]
        },
        {
          "output_type": "error",
          "ename": "AttributeError",
          "evalue": "type object 'person' has no attribute 'get_total_persons'",
          "traceback": [
            "\u001b[0;31m---------------------------------------------------------------------------\u001b[0m",
            "\u001b[0;31mAttributeError\u001b[0m                            Traceback (most recent call last)",
            "\u001b[0;32m<ipython-input-45-dabe3dd40cfe>\u001b[0m in \u001b[0;36m<cell line: 0>\u001b[0;34m()\u001b[0m\n\u001b[1;32m     13\u001b[0m \u001b[0mprint\u001b[0m\u001b[0;34m(\u001b[0m\u001b[0mperson1\u001b[0m\u001b[0;34m)\u001b[0m\u001b[0;34m\u001b[0m\u001b[0;34m\u001b[0m\u001b[0m\n\u001b[1;32m     14\u001b[0m \u001b[0mprint\u001b[0m\u001b[0;34m(\u001b[0m\u001b[0mperson2\u001b[0m\u001b[0;34m)\u001b[0m\u001b[0;34m\u001b[0m\u001b[0;34m\u001b[0m\u001b[0m\n\u001b[0;32m---> 15\u001b[0;31m \u001b[0mprint\u001b[0m\u001b[0;34m(\u001b[0m\u001b[0mperson\u001b[0m\u001b[0;34m.\u001b[0m\u001b[0mget_total_persons\u001b[0m\u001b[0;34m(\u001b[0m\u001b[0;34m)\u001b[0m\u001b[0;34m)\u001b[0m\u001b[0;34m\u001b[0m\u001b[0;34m\u001b[0m\u001b[0m\n\u001b[0m",
            "\u001b[0;31mAttributeError\u001b[0m: type object 'person' has no attribute 'get_total_persons'"
          ]
        }
      ]
    },
    {
      "cell_type": "code",
      "source": [
        "#ans9\n",
        "class fraction:\n",
        "  def __init__(self,numerator,denominator):\n",
        "    self.numerator=numerator\n",
        "    self.denominator=denominator\n",
        "    def __str__(self):\n",
        "     return f\"{self.numerator}/{self.denominator}\"\n",
        "\n",
        "fraction=fraction(3, 4)\n",
        "print(fraction)\n"
      ],
      "metadata": {
        "colab": {
          "base_uri": "https://localhost:8080/"
        },
        "id": "ShWnZcLNjqZ9",
        "outputId": "33350e2d-ed20-4cb5-978f-3d10703a137a"
      },
      "execution_count": 51,
      "outputs": [
        {
          "output_type": "stream",
          "name": "stdout",
          "text": [
            "<__main__.fraction object at 0x7be23bb537d0>\n"
          ]
        }
      ]
    },
    {
      "cell_type": "code",
      "source": [
        "#ans 10\n",
        "class vector:\n",
        "  def __init__(self,x,y):\n",
        "    self.x=x\n",
        "    self.y=y\n",
        "  def __add__(self,other):\n",
        "      if isinstance(other,vector):\n",
        "        return vector(self.x+other.x,self.y+other.y)\n",
        "      else:\n",
        "        raise TypeError(\"unsupported operand type\")\n",
        "  def __str__(self):\n",
        "        return f\"({self.x},{self.y})\"\n",
        "v1=vector(1,2)\n",
        "v2=vector(3,4)\n",
        "result=v1+v2\n",
        "print(result)\n",
        "\n"
      ],
      "metadata": {
        "colab": {
          "base_uri": "https://localhost:8080/"
        },
        "id": "nF9Q6Yfrk_hJ",
        "outputId": "c01830be-e088-4373-8534-b4b7f2e6a482"
      },
      "execution_count": 56,
      "outputs": [
        {
          "output_type": "stream",
          "name": "stdout",
          "text": [
            "(4,6)\n"
          ]
        }
      ]
    },
    {
      "cell_type": "code",
      "source": [
        "#ans11\n",
        "class person:\n",
        "  def __init__(self,name,age):\n",
        "    self.name=name\n",
        "    self.age=age\n",
        "  def greet(self):\n",
        "   print(f\"Hello ,my name is {self.name} and i am {self.age} years old\")\n",
        "person=person(\"Sehba\",21)\n",
        "person.greet()"
      ],
      "metadata": {
        "colab": {
          "base_uri": "https://localhost:8080/"
        },
        "id": "FLvuttmCmWWa",
        "outputId": "b4bf6e69-fb74-4735-998f-b24830c4745e"
      },
      "execution_count": 59,
      "outputs": [
        {
          "output_type": "stream",
          "name": "stdout",
          "text": [
            "Hello ,my name is Sehba and i am 21 years old\n"
          ]
        }
      ]
    },
    {
      "cell_type": "code",
      "source": [
        "#ans12\n",
        "class student():\n",
        "  def __init__(self,name,*grades):\n",
        "    self.name=name\n",
        "    self.grades=grades\n",
        "  def average_grade(self):\n",
        "    total=sum(self.grades)\n",
        "    average=total/len(self.grades)\n",
        "    return average\n",
        "student1=student(\"sehba\", 90,90,90)\n",
        "print(student1.average_grade())\n"
      ],
      "metadata": {
        "colab": {
          "base_uri": "https://localhost:8080/"
        },
        "id": "5d5erC2snqNE",
        "outputId": "c8dd8be2-9551-46e4-b6d3-c0a68006f84e"
      },
      "execution_count": 66,
      "outputs": [
        {
          "output_type": "stream",
          "name": "stdout",
          "text": [
            "90.0\n"
          ]
        }
      ]
    },
    {
      "cell_type": "code",
      "source": [
        "#ans13\n",
        "class rectangle:\n",
        "  def __init__(self,length,width):\n",
        "    self.length=length\n",
        "    self.width=width\n",
        "  def set_dimensions(self,length,width):\n",
        "    self.length=length\n",
        "    self.width=width\n",
        "    return self.length,self.width\n",
        "  def area(self):\n",
        "    return self.length*self.width\n",
        "rectangle=rectangle(6,7)\n",
        "print(rectangle.area())\n",
        "print(rectangle.set_dimensions(6,7))"
      ],
      "metadata": {
        "colab": {
          "base_uri": "https://localhost:8080/"
        },
        "id": "OChMfzpapee7",
        "outputId": "866ab155-1f26-4307-a5f5-fa2c9492558d"
      },
      "execution_count": 73,
      "outputs": [
        {
          "output_type": "stream",
          "name": "stdout",
          "text": [
            "42\n",
            "(6, 7)\n"
          ]
        }
      ]
    },
    {
      "cell_type": "code",
      "source": [
        "\n",
        "\n",
        "#ans14\n",
        "class employee:\n",
        "  def __init__(self,hourly_rate,hours_worked):\n",
        "    self.hourly_rate=hourly_rate\n",
        "    self.hours_worked=hours_worked\n",
        "  def calculate_salary(self):\n",
        "    return self.hourly_rate*self.hours_worked\n",
        "class manager(employee):\n",
        "    def __init__(self,hourly_rate,hours_worked,bonus):\n",
        "      super().__init__(hourly_rate,hours_worked)\n",
        "      self.bonus=bonus\n",
        "    def calculate_salary(self):\n",
        "      bonus= super().calculate_salary()+self.bonus\n",
        "      return bonus\n",
        "employee=employee(10,40)\n",
        "print(employee.calculate_salary())\n",
        "manager=manager(10,40,5000)\n",
        "print(manager.calculate_salary())\n",
        "\n"
      ],
      "metadata": {
        "colab": {
          "base_uri": "https://localhost:8080/"
        },
        "id": "vTN1taPFrddY",
        "outputId": "dca83fd4-de66-4752-df12-e9f56bb46dee"
      },
      "execution_count": 121,
      "outputs": [
        {
          "output_type": "stream",
          "name": "stdout",
          "text": [
            "400\n",
            "5400\n"
          ]
        }
      ]
    },
    {
      "cell_type": "code",
      "source": [
        "#ans 15\n",
        "class product:\n",
        "  def __init__(self,name,price,quantity):\n",
        "    self.name=name\n",
        "    self.price=price\n",
        "    self.quantity=quantity\n",
        "  def total_price(self):\n",
        "    return self.price*self.quantity\n",
        "product1=product(\"laptop\",1000,2)\n",
        "print(product1.name)\n",
        "print(product1.total_price(),)"
      ],
      "metadata": {
        "colab": {
          "base_uri": "https://localhost:8080/"
        },
        "id": "yonr3r8L0kwz",
        "outputId": "a910c5ac-5b2f-4ee9-b0b5-e7ecda5f06ac"
      },
      "execution_count": 125,
      "outputs": [
        {
          "output_type": "stream",
          "name": "stdout",
          "text": [
            "laptop\n",
            "2000\n"
          ]
        }
      ]
    },
    {
      "cell_type": "code",
      "source": [
        "#ans16\n",
        "from abc import ABC,abstractmethod\n",
        "class animal(ABC):\n",
        "  @abstractmethod\n",
        "  def sound(self):\n",
        "    pass\n",
        "class cow(animal):\n",
        "  def sound(self):\n",
        "    return(\"moo\")\n",
        "class sheep(animal):\n",
        "  def sound(self):\n",
        "    return(\"baa\")\n",
        "cow=cow()\n",
        "cow.sound()\n",
        "sheep=sheep()\n",
        "sheep.sound()\n",
        "print(f\"The cow says :{cow.sound()}\")\n",
        "print(f\"The sheep says :{sheep.sound()}\")"
      ],
      "metadata": {
        "colab": {
          "base_uri": "https://localhost:8080/"
        },
        "id": "svzrGoRf1xzh",
        "outputId": "7209156a-fa3a-4db0-f9da-59069eecb36a"
      },
      "execution_count": 130,
      "outputs": [
        {
          "output_type": "stream",
          "name": "stdout",
          "text": [
            "The cow says :moo\n",
            "The sheep says :baa\n"
          ]
        }
      ]
    },
    {
      "cell_type": "code",
      "source": [
        "#ans17\n",
        "class book:\n",
        "  def __init__(self,title,author,published_year):\n",
        "    self.title=title\n",
        "    self.author=author\n",
        "    self.published_year=published_year\n",
        "  def get_book_info(self):\n",
        "    return (f\"{self.title} was written by {self.author} and was  published in the year{self.published_year}\")\n",
        "book1=book(\"The Great Gatsby\",\"F. Scott Fitzgerald\",\"1925\")\n",
        "print(book1.get_book_info())"
      ],
      "metadata": {
        "colab": {
          "base_uri": "https://localhost:8080/"
        },
        "id": "7HPBeK9A3U3K",
        "outputId": "3eb11788-1520-4fcc-d2bd-ad8092f5ce6d"
      },
      "execution_count": 139,
      "outputs": [
        {
          "output_type": "stream",
          "name": "stdout",
          "text": [
            "The Great Gatsby was written by F. Scott Fitzgerald and published in the year1925\n"
          ]
        }
      ]
    },
    {
      "cell_type": "code",
      "source": [
        "#ans18\n",
        "class house:\n",
        "  def __init__(self,address,price):\n",
        "    self.address=address\n",
        "    self.price=price\n",
        "class mansion(house):\n",
        "  def __init__(self, address,price,no_of_rooms):\n",
        "      super().__init__(address,price)\n",
        "      self.no_of_rooms=no_of_rooms\n",
        "house1=mansion(\"deepa sarai\", 20000, 4)\n",
        "print(house1.address,house1.price,house1.no_of_rooms)"
      ],
      "metadata": {
        "colab": {
          "base_uri": "https://localhost:8080/"
        },
        "id": "h8u5RPaU5H-R",
        "outputId": "ace0c27d-2244-4999-87d2-68c28c6231b7"
      },
      "execution_count": 155,
      "outputs": [
        {
          "output_type": "stream",
          "name": "stdout",
          "text": [
            "deepa sarai 20000 4\n"
          ]
        }
      ]
    },
    {
      "cell_type": "code",
      "source": [],
      "metadata": {
        "id": "zyCUfIT08nWy"
      },
      "execution_count": null,
      "outputs": []
    },
    {
      "cell_type": "code",
      "source": [],
      "metadata": {
        "id": "f_LZ9I3P8g77"
      },
      "execution_count": null,
      "outputs": []
    },
    {
      "cell_type": "code",
      "source": [],
      "metadata": {
        "id": "i2_U2WdS8YVD"
      },
      "execution_count": null,
      "outputs": []
    },
    {
      "cell_type": "code",
      "source": [],
      "metadata": {
        "id": "Kb0NWhnR8JKc"
      },
      "execution_count": null,
      "outputs": []
    },
    {
      "cell_type": "code",
      "source": [],
      "metadata": {
        "id": "9tmxN6YF8Gix"
      },
      "execution_count": null,
      "outputs": []
    },
    {
      "cell_type": "code",
      "source": [],
      "metadata": {
        "id": "SKzXlk1U8CI3"
      },
      "execution_count": null,
      "outputs": []
    },
    {
      "cell_type": "code",
      "source": [],
      "metadata": {
        "id": "HhRFWjXr7-sC"
      },
      "execution_count": null,
      "outputs": []
    },
    {
      "cell_type": "code",
      "source": [],
      "metadata": {
        "id": "lDBf1c9h72Op"
      },
      "execution_count": null,
      "outputs": []
    },
    {
      "cell_type": "code",
      "source": [],
      "metadata": {
        "id": "wusHD_pJ7tCt"
      },
      "execution_count": null,
      "outputs": []
    },
    {
      "cell_type": "code",
      "source": [],
      "metadata": {
        "id": "8_X4hEg87nIH"
      },
      "execution_count": null,
      "outputs": []
    },
    {
      "cell_type": "code",
      "source": [],
      "metadata": {
        "id": "mjnn8PDF7kmf"
      },
      "execution_count": null,
      "outputs": []
    },
    {
      "cell_type": "code",
      "source": [],
      "metadata": {
        "id": "Pr-Ziok57Jpz"
      },
      "execution_count": null,
      "outputs": []
    },
    {
      "cell_type": "code",
      "source": [],
      "metadata": {
        "id": "DZgcMnVL7AKR"
      },
      "execution_count": null,
      "outputs": []
    },
    {
      "cell_type": "code",
      "source": [],
      "metadata": {
        "id": "X6oed6Ku663k"
      },
      "execution_count": null,
      "outputs": []
    },
    {
      "cell_type": "code",
      "source": [],
      "metadata": {
        "id": "6B7xMXj26wkJ"
      },
      "execution_count": null,
      "outputs": []
    },
    {
      "cell_type": "code",
      "source": [],
      "metadata": {
        "id": "11ZYLJnm6kSk"
      },
      "execution_count": null,
      "outputs": []
    },
    {
      "cell_type": "code",
      "source": [],
      "metadata": {
        "id": "IN_qM5wr47bK"
      },
      "execution_count": null,
      "outputs": []
    },
    {
      "cell_type": "code",
      "source": [],
      "metadata": {
        "id": "YnhN2dyN4zKk"
      },
      "execution_count": null,
      "outputs": []
    },
    {
      "cell_type": "code",
      "source": [],
      "metadata": {
        "id": "Ik7yA3Zi4oSb"
      },
      "execution_count": null,
      "outputs": []
    },
    {
      "cell_type": "code",
      "source": [],
      "metadata": {
        "id": "XfH1ATX34hI0"
      },
      "execution_count": null,
      "outputs": []
    },
    {
      "cell_type": "code",
      "source": [],
      "metadata": {
        "id": "n6fP6IjI4aSo"
      },
      "execution_count": null,
      "outputs": []
    },
    {
      "cell_type": "code",
      "source": [],
      "metadata": {
        "id": "wNpwvT9G4WKb"
      },
      "execution_count": null,
      "outputs": []
    },
    {
      "cell_type": "code",
      "source": [],
      "metadata": {
        "id": "8zCTg4BJ4QFZ"
      },
      "execution_count": null,
      "outputs": []
    },
    {
      "cell_type": "code",
      "source": [],
      "metadata": {
        "id": "dp7GZfUv4MMY"
      },
      "execution_count": null,
      "outputs": []
    },
    {
      "cell_type": "code",
      "source": [],
      "metadata": {
        "id": "E1NzWJQN3NAP"
      },
      "execution_count": null,
      "outputs": []
    },
    {
      "cell_type": "code",
      "source": [],
      "metadata": {
        "id": "R-0I8RfM3Ddk"
      },
      "execution_count": null,
      "outputs": []
    },
    {
      "cell_type": "code",
      "source": [],
      "metadata": {
        "id": "HUyOsK303Awi"
      },
      "execution_count": null,
      "outputs": []
    },
    {
      "cell_type": "code",
      "source": [],
      "metadata": {
        "id": "Oz7yxcr_22rI"
      },
      "execution_count": null,
      "outputs": []
    },
    {
      "cell_type": "code",
      "source": [],
      "metadata": {
        "id": "EY3HgLF-1psN"
      },
      "execution_count": null,
      "outputs": []
    },
    {
      "cell_type": "code",
      "source": [],
      "metadata": {
        "id": "-H2VeDgq1hXd"
      },
      "execution_count": null,
      "outputs": []
    },
    {
      "cell_type": "code",
      "source": [],
      "metadata": {
        "id": "OQ7Ogdkz1Wuq"
      },
      "execution_count": null,
      "outputs": []
    },
    {
      "cell_type": "code",
      "source": [],
      "metadata": {
        "id": "Y-CdyRzG0Rix"
      },
      "execution_count": null,
      "outputs": []
    },
    {
      "cell_type": "code",
      "source": [],
      "metadata": {
        "id": "amSu9r3T0LWz"
      },
      "execution_count": null,
      "outputs": []
    },
    {
      "cell_type": "code",
      "source": [],
      "metadata": {
        "id": "EzfUMOIG0Ch_"
      },
      "execution_count": null,
      "outputs": []
    },
    {
      "cell_type": "code",
      "source": [],
      "metadata": {
        "id": "26ulWL94zxIY"
      },
      "execution_count": null,
      "outputs": []
    },
    {
      "cell_type": "code",
      "source": [],
      "metadata": {
        "id": "hxVpDgkVzn66"
      },
      "execution_count": null,
      "outputs": []
    },
    {
      "cell_type": "code",
      "source": [],
      "metadata": {
        "id": "4zma2m71zR6f"
      },
      "execution_count": null,
      "outputs": []
    },
    {
      "cell_type": "code",
      "source": [],
      "metadata": {
        "id": "E3byIv4sy86C"
      },
      "execution_count": 114,
      "outputs": []
    },
    {
      "cell_type": "code",
      "source": [],
      "metadata": {
        "id": "hhTIx73qzHEt"
      },
      "execution_count": null,
      "outputs": []
    },
    {
      "cell_type": "code",
      "source": [],
      "metadata": {
        "id": "EeD2crMFy5iZ"
      },
      "execution_count": null,
      "outputs": []
    },
    {
      "cell_type": "code",
      "source": [],
      "metadata": {
        "id": "OAqZE9kWx2gD"
      },
      "execution_count": null,
      "outputs": []
    },
    {
      "cell_type": "code",
      "source": [],
      "metadata": {
        "id": "L0iBVo34xoSC"
      },
      "execution_count": null,
      "outputs": []
    },
    {
      "cell_type": "code",
      "source": [],
      "metadata": {
        "id": "_WWwOiGSxdb8"
      },
      "execution_count": null,
      "outputs": []
    },
    {
      "cell_type": "code",
      "source": [
        "#ans15\n"
      ],
      "metadata": {
        "id": "qh2Wjb8ExRTu"
      },
      "execution_count": null,
      "outputs": []
    },
    {
      "cell_type": "code",
      "source": [],
      "metadata": {
        "id": "mlXHaqI9xGpq"
      },
      "execution_count": null,
      "outputs": []
    },
    {
      "cell_type": "code",
      "source": [],
      "metadata": {
        "id": "5PEbdKiFxDLF"
      },
      "execution_count": null,
      "outputs": []
    },
    {
      "cell_type": "code",
      "source": [],
      "metadata": {
        "id": "3l1qbY5Yw6cB"
      },
      "execution_count": null,
      "outputs": []
    },
    {
      "cell_type": "code",
      "source": [],
      "metadata": {
        "id": "U0kTypWdwiiJ"
      },
      "execution_count": null,
      "outputs": []
    },
    {
      "cell_type": "code",
      "source": [],
      "metadata": {
        "id": "hLioZ-xRwc_E"
      },
      "execution_count": null,
      "outputs": []
    },
    {
      "cell_type": "code",
      "source": [],
      "metadata": {
        "id": "260E_mpAwFV-"
      },
      "execution_count": null,
      "outputs": []
    },
    {
      "cell_type": "code",
      "source": [],
      "metadata": {
        "id": "prEpNp3SwCWg"
      },
      "execution_count": null,
      "outputs": []
    },
    {
      "cell_type": "code",
      "source": [],
      "metadata": {
        "id": "PNomBvKdv9iR"
      },
      "execution_count": null,
      "outputs": []
    },
    {
      "cell_type": "code",
      "source": [],
      "metadata": {
        "id": "T9wXDkg7v7mL"
      },
      "execution_count": null,
      "outputs": []
    },
    {
      "cell_type": "code",
      "source": [],
      "metadata": {
        "id": "fDDeRr7FvwM6"
      },
      "execution_count": null,
      "outputs": []
    },
    {
      "cell_type": "code",
      "source": [],
      "metadata": {
        "id": "ja9D5QPyvlaR"
      },
      "execution_count": null,
      "outputs": []
    },
    {
      "cell_type": "code",
      "source": [],
      "metadata": {
        "id": "oc17MJXkvhhQ"
      },
      "execution_count": null,
      "outputs": []
    },
    {
      "cell_type": "code",
      "source": [],
      "metadata": {
        "id": "cruoOc64vSZz"
      },
      "execution_count": null,
      "outputs": []
    },
    {
      "cell_type": "code",
      "source": [],
      "metadata": {
        "id": "8R3j1OFYvIH6"
      },
      "execution_count": null,
      "outputs": []
    },
    {
      "cell_type": "code",
      "source": [],
      "metadata": {
        "id": "MZVYAC6mu39i"
      },
      "execution_count": null,
      "outputs": []
    },
    {
      "cell_type": "code",
      "source": [],
      "metadata": {
        "id": "aK6a9l7Duv6u"
      },
      "execution_count": null,
      "outputs": []
    },
    {
      "cell_type": "code",
      "source": [],
      "metadata": {
        "id": "x6wa_C62um2b"
      },
      "execution_count": null,
      "outputs": []
    },
    {
      "cell_type": "code",
      "source": [],
      "metadata": {
        "id": "P-ouis9tuiqb"
      },
      "execution_count": null,
      "outputs": []
    },
    {
      "cell_type": "code",
      "source": [],
      "metadata": {
        "id": "BddV1kIIudWD"
      },
      "execution_count": null,
      "outputs": []
    },
    {
      "cell_type": "code",
      "source": [],
      "metadata": {
        "id": "_yUEUryguYDW"
      },
      "execution_count": null,
      "outputs": []
    },
    {
      "cell_type": "code",
      "source": [],
      "metadata": {
        "id": "NvwQEjRWuUM7"
      },
      "execution_count": null,
      "outputs": []
    },
    {
      "cell_type": "code",
      "source": [],
      "metadata": {
        "id": "d4-OFMCPuPKB"
      },
      "execution_count": null,
      "outputs": []
    },
    {
      "cell_type": "code",
      "source": [],
      "metadata": {
        "id": "kpOUQcmDt33c"
      },
      "execution_count": null,
      "outputs": []
    },
    {
      "cell_type": "code",
      "source": [],
      "metadata": {
        "id": "0AraiVhFt0wS"
      },
      "execution_count": null,
      "outputs": []
    },
    {
      "cell_type": "code",
      "source": [],
      "metadata": {
        "id": "Pv1JBE45taVu"
      },
      "execution_count": null,
      "outputs": []
    },
    {
      "cell_type": "code",
      "source": [],
      "metadata": {
        "id": "_TNBQgR4tORK"
      },
      "execution_count": null,
      "outputs": []
    },
    {
      "cell_type": "code",
      "source": [],
      "metadata": {
        "id": "wnR20p8wtJtg"
      },
      "execution_count": null,
      "outputs": []
    },
    {
      "cell_type": "code",
      "source": [],
      "metadata": {
        "id": "38AAw-jwtG1f"
      },
      "execution_count": null,
      "outputs": []
    },
    {
      "cell_type": "code",
      "source": [],
      "metadata": {
        "id": "3OsB-Imss_vu"
      },
      "execution_count": null,
      "outputs": []
    },
    {
      "cell_type": "code",
      "source": [],
      "metadata": {
        "id": "7jwZD2iessP1"
      },
      "execution_count": null,
      "outputs": []
    },
    {
      "cell_type": "code",
      "source": [],
      "metadata": {
        "id": "7OxkjnE7soWo"
      },
      "execution_count": null,
      "outputs": []
    },
    {
      "cell_type": "code",
      "source": [],
      "metadata": {
        "id": "k9roLsO4shst"
      },
      "execution_count": null,
      "outputs": []
    },
    {
      "cell_type": "code",
      "source": [],
      "metadata": {
        "id": "X4gZ3H1ase_K"
      },
      "execution_count": null,
      "outputs": []
    },
    {
      "cell_type": "code",
      "source": [],
      "metadata": {
        "id": "VZlHKymFsMFA"
      },
      "execution_count": null,
      "outputs": []
    },
    {
      "cell_type": "code",
      "source": [],
      "metadata": {
        "id": "Z1EK7WAIsHvM"
      },
      "execution_count": null,
      "outputs": []
    },
    {
      "cell_type": "code",
      "source": [],
      "metadata": {
        "id": "T1qwCzv4rWWZ"
      },
      "execution_count": null,
      "outputs": []
    },
    {
      "cell_type": "code",
      "source": [],
      "metadata": {
        "id": "2oD9v8fprRcg"
      },
      "execution_count": 71,
      "outputs": []
    },
    {
      "cell_type": "code",
      "source": [],
      "metadata": {
        "id": "G2vUoT56rR-b"
      },
      "execution_count": null,
      "outputs": []
    },
    {
      "cell_type": "code",
      "source": [],
      "metadata": {
        "id": "rKRNqPAbrFlI"
      },
      "execution_count": null,
      "outputs": []
    },
    {
      "cell_type": "code",
      "source": [],
      "metadata": {
        "id": "f89JgE-cq-FU"
      },
      "execution_count": null,
      "outputs": []
    },
    {
      "cell_type": "code",
      "source": [
        "#ans14"
      ],
      "metadata": {
        "id": "LBxXzqvVqbKE"
      },
      "execution_count": null,
      "outputs": []
    },
    {
      "cell_type": "code",
      "source": [],
      "metadata": {
        "id": "y-mhLrQFpY-x"
      },
      "execution_count": null,
      "outputs": []
    },
    {
      "cell_type": "code",
      "source": [],
      "metadata": {
        "id": "taePHJVspNj0"
      },
      "execution_count": null,
      "outputs": []
    },
    {
      "cell_type": "code",
      "source": [],
      "metadata": {
        "id": "iNRgf8OOpG6H"
      },
      "execution_count": null,
      "outputs": []
    },
    {
      "cell_type": "code",
      "source": [],
      "metadata": {
        "id": "Ekcscd5Won53"
      },
      "execution_count": null,
      "outputs": []
    },
    {
      "cell_type": "code",
      "source": [],
      "metadata": {
        "id": "vHkCrF4folfK"
      },
      "execution_count": null,
      "outputs": []
    },
    {
      "cell_type": "code",
      "source": [],
      "metadata": {
        "id": "AHWYR3dxoS7T"
      },
      "execution_count": null,
      "outputs": []
    },
    {
      "cell_type": "code",
      "source": [],
      "metadata": {
        "id": "sCzWA3cXnnpn"
      },
      "execution_count": null,
      "outputs": []
    },
    {
      "cell_type": "code",
      "source": [],
      "metadata": {
        "id": "7Z837O4enlMs"
      },
      "execution_count": null,
      "outputs": []
    },
    {
      "cell_type": "code",
      "source": [],
      "metadata": {
        "id": "GfMKqZ7smSk6"
      },
      "execution_count": null,
      "outputs": []
    },
    {
      "cell_type": "code",
      "source": [],
      "metadata": {
        "id": "RG422e8mmBub"
      },
      "execution_count": null,
      "outputs": []
    },
    {
      "cell_type": "code",
      "source": [],
      "metadata": {
        "id": "54-c7diol0yU"
      },
      "execution_count": null,
      "outputs": []
    },
    {
      "cell_type": "code",
      "source": [],
      "metadata": {
        "id": "oXfLtNKlk7ly"
      },
      "execution_count": null,
      "outputs": []
    },
    {
      "cell_type": "code",
      "source": [],
      "metadata": {
        "id": "OzWRbTcqkuw9"
      },
      "execution_count": null,
      "outputs": []
    },
    {
      "cell_type": "code",
      "source": [],
      "metadata": {
        "id": "Ji_T7elAkf1m"
      },
      "execution_count": null,
      "outputs": []
    },
    {
      "cell_type": "code",
      "source": [],
      "metadata": {
        "id": "dM9w06mFkU_Q"
      },
      "execution_count": null,
      "outputs": []
    },
    {
      "cell_type": "code",
      "source": [],
      "metadata": {
        "id": "I15Ob9ZKkOpc"
      },
      "execution_count": 46,
      "outputs": []
    },
    {
      "cell_type": "code",
      "source": [],
      "metadata": {
        "id": "jw8bvCgekQDr"
      },
      "execution_count": null,
      "outputs": []
    },
    {
      "cell_type": "code",
      "source": [],
      "metadata": {
        "id": "Iqut9w98jcXw"
      },
      "execution_count": null,
      "outputs": []
    },
    {
      "cell_type": "code",
      "source": [],
      "metadata": {
        "id": "_hFPHaNVjXOb"
      },
      "execution_count": null,
      "outputs": []
    },
    {
      "cell_type": "code",
      "source": [],
      "metadata": {
        "id": "q1Qja7QxjUv5"
      },
      "execution_count": null,
      "outputs": []
    },
    {
      "cell_type": "code",
      "source": [],
      "metadata": {
        "id": "K54L1RDLjLCp"
      },
      "execution_count": null,
      "outputs": []
    },
    {
      "cell_type": "code",
      "source": [],
      "metadata": {
        "id": "l2WhAePvikL4"
      },
      "execution_count": null,
      "outputs": []
    },
    {
      "cell_type": "code",
      "source": [],
      "metadata": {
        "id": "fyx4J3sFifCM"
      },
      "execution_count": null,
      "outputs": []
    },
    {
      "cell_type": "code",
      "source": [],
      "metadata": {
        "id": "Rr8mXFv9iQCC"
      },
      "execution_count": null,
      "outputs": []
    },
    {
      "cell_type": "code",
      "source": [],
      "metadata": {
        "id": "ZqxDzBVdiIAO"
      },
      "execution_count": null,
      "outputs": []
    },
    {
      "cell_type": "code",
      "source": [],
      "metadata": {
        "id": "lwZzjt6JiDgB"
      },
      "execution_count": null,
      "outputs": []
    },
    {
      "cell_type": "code",
      "source": [],
      "metadata": {
        "id": "5gsp1oTwhnnI"
      },
      "execution_count": null,
      "outputs": []
    },
    {
      "cell_type": "code",
      "source": [],
      "metadata": {
        "id": "eDYyablohSrn"
      },
      "execution_count": 34,
      "outputs": []
    },
    {
      "cell_type": "code",
      "source": [],
      "metadata": {
        "id": "3upnusxjhek0"
      },
      "execution_count": null,
      "outputs": []
    },
    {
      "cell_type": "code",
      "source": [],
      "metadata": {
        "id": "EH_EH0ocg58f"
      },
      "execution_count": null,
      "outputs": []
    },
    {
      "cell_type": "code",
      "source": [],
      "metadata": {
        "id": "YV_3UXeCgzsF"
      },
      "execution_count": null,
      "outputs": []
    },
    {
      "cell_type": "code",
      "source": [],
      "metadata": {
        "id": "oYwbcMQ8gq2j"
      },
      "execution_count": null,
      "outputs": []
    },
    {
      "cell_type": "code",
      "source": [],
      "metadata": {
        "id": "CzzbUYkIgoMw"
      },
      "execution_count": null,
      "outputs": []
    },
    {
      "cell_type": "code",
      "source": [],
      "metadata": {
        "id": "v9qSxZoGgS00"
      },
      "execution_count": 28,
      "outputs": []
    },
    {
      "cell_type": "code",
      "source": [],
      "metadata": {
        "id": "Ir8h2KRLgd5c"
      },
      "execution_count": null,
      "outputs": []
    },
    {
      "cell_type": "code",
      "source": [],
      "metadata": {
        "id": "sHGjmmYqgPP6"
      },
      "execution_count": null,
      "outputs": []
    },
    {
      "cell_type": "code",
      "source": [],
      "metadata": {
        "id": "3Kpb5HLfgJQs"
      },
      "execution_count": null,
      "outputs": []
    },
    {
      "cell_type": "code",
      "source": [],
      "metadata": {
        "id": "1XWoNVmqgDjV"
      },
      "execution_count": null,
      "outputs": []
    },
    {
      "cell_type": "code",
      "source": [],
      "metadata": {
        "id": "l8s8BCzPf64l"
      },
      "execution_count": null,
      "outputs": []
    },
    {
      "cell_type": "code",
      "source": [],
      "metadata": {
        "id": "ALrpa9rPf04x"
      },
      "execution_count": null,
      "outputs": []
    },
    {
      "cell_type": "code",
      "source": [],
      "metadata": {
        "id": "lSN-tNLweIQx"
      },
      "execution_count": null,
      "outputs": []
    },
    {
      "cell_type": "code",
      "source": [],
      "metadata": {
        "id": "j56m7AKZcrmU"
      },
      "execution_count": null,
      "outputs": []
    },
    {
      "cell_type": "code",
      "source": [],
      "metadata": {
        "id": "zzQlOXzralB5"
      },
      "execution_count": null,
      "outputs": []
    },
    {
      "cell_type": "code",
      "source": [],
      "metadata": {
        "id": "uwCeu9U7afDw"
      },
      "execution_count": null,
      "outputs": []
    }
  ]
}